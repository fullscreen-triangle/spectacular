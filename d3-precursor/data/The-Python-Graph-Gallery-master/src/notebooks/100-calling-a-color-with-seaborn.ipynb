{
 "cells": [
  {
   "cell_type": "markdown",
   "metadata": {},
   "source": [
    "Calling a **color** with [seaborn](https://python-graph-gallery.com/seaborn/) works exactly the same way with [matplotlib](https://python-graph-gallery.com/matplotlib/). Thus, see the [dedicated page](https://python-graph-gallery.com/196-select-one-color-with-matplotlib/) that gives extensive explanations. However, here is a list of the available colors if you want to call them by their name ([source](https://matplotlib.org/))."
   ]
  }
 ],
 "metadata": {
  "chartType": "colors",
  "description": "This post provides a list of available color names that you can use with seaborn.",
  "family": "general",
  "kernelspec": {
   "display_name": "Python 3",
   "language": "python",
   "name": "python3"
  },
  "keywords": "python, chart, plot, seaborn, matplotlib, colors",
  "language_info": {
   "codemirror_mode": {
    "name": "ipython",
    "version": 3
   },
   "file_extension": ".py",
   "mimetype": "text/x-python",
   "name": "python",
   "nbconvert_exporter": "python",
   "pygments_lexer": "ipython3",
   "version": "3.7.3"
  },
  "seoDescription": "How to call a color with seaborn in python",
  "slug": "100-calling-a-color-with-seaborn",
  "title": "Calling a Color with Seaborn"
 },
 "nbformat": 4,
 "nbformat_minor": 4
}
