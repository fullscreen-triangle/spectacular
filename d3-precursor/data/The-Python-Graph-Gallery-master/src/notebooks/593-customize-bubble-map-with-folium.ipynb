{
  "cells": [
    {
      "attachments": {},
      "cell_type": "markdown",
      "metadata": {},
      "source": [
        "## Libraries & Data\n",
        "\n",
        "For creating this chart, we will need to load the following libraries:\n",
        "\n",
        "- [folium](/folium) for plotting the chart\n",
        "- [pandas](/pandas) for loading the data\n",
        "- `numpy` for some calculations\n"
      ]
    },
    {
      "cell_type": "code",
      "execution_count": 1,
      "metadata": {
        "tags": []
      },
      "outputs": [],
      "source": [
        "import folium\n",
        "from folium import plugins\n",
        "import pandas as pd\n",
        "import numpy as np"
      ]
    },
    {
      "cell_type": "markdown",
      "metadata": {},
      "source": [
        "## Dataset\n",
        "\n",
        "Let's start by loading shape data:\n"
      ]
    },
    {
      "cell_type": "code",
      "execution_count": 2,
      "metadata": {},
      "outputs": [
        {
          "data": {
            "text/html": [
              "<div>\n",
              "<style scoped>\n",
              "    .dataframe tbody tr th:only-of-type {\n",
              "        vertical-align: middle;\n",
              "    }\n",
              "\n",
              "    .dataframe tbody tr th {\n",
              "        vertical-align: top;\n",
              "    }\n",
              "\n",
              "    .dataframe thead th {\n",
              "        text-align: right;\n",
              "    }\n",
              "</style>\n",
              "<table border=\"1\" class=\"dataframe\">\n",
              "  <thead>\n",
              "    <tr style=\"text-align: right;\">\n",
              "      <th></th>\n",
              "      <th>Date</th>\n",
              "      <th>Time (utc)</th>\n",
              "      <th>Region</th>\n",
              "      <th>Magnitude</th>\n",
              "      <th>Depth (km)</th>\n",
              "      <th>Latitude</th>\n",
              "      <th>Longitude</th>\n",
              "      <th>Mode</th>\n",
              "      <th>Map</th>\n",
              "      <th>year</th>\n",
              "    </tr>\n",
              "  </thead>\n",
              "  <tbody>\n",
              "    <tr>\n",
              "      <th>7961</th>\n",
              "      <td>20/02/2019</td>\n",
              "      <td>06:50:47</td>\n",
              "      <td>Banda Sea</td>\n",
              "      <td>5.0</td>\n",
              "      <td>2026</td>\n",
              "      <td>-6.89</td>\n",
              "      <td>129.15</td>\n",
              "      <td>A</td>\n",
              "      <td>-</td>\n",
              "      <td>2019.0</td>\n",
              "    </tr>\n",
              "    <tr>\n",
              "      <th>6813</th>\n",
              "      <td>07/07/2019</td>\n",
              "      <td>07:50:53</td>\n",
              "      <td>Eastern New Guinea Reg, P.N.G.</td>\n",
              "      <td>5.4</td>\n",
              "      <td>1010</td>\n",
              "      <td>-5.96</td>\n",
              "      <td>147.90</td>\n",
              "      <td>A</td>\n",
              "      <td>-</td>\n",
              "      <td>2019.0</td>\n",
              "    </tr>\n",
              "    <tr>\n",
              "      <th>8293</th>\n",
              "      <td>17/01/2019</td>\n",
              "      <td>14:01:50</td>\n",
              "      <td>Fiji Islands</td>\n",
              "      <td>4.7</td>\n",
              "      <td>689</td>\n",
              "      <td>-18.65</td>\n",
              "      <td>179.44</td>\n",
              "      <td>A</td>\n",
              "      <td>-</td>\n",
              "      <td>2019.0</td>\n",
              "    </tr>\n",
              "    <tr>\n",
              "      <th>11258</th>\n",
              "      <td>03/01/2018</td>\n",
              "      <td>06:42:58</td>\n",
              "      <td>Fiji Islands Region</td>\n",
              "      <td>5.5</td>\n",
              "      <td>677</td>\n",
              "      <td>-19.93</td>\n",
              "      <td>-178.89</td>\n",
              "      <td>A</td>\n",
              "      <td>-</td>\n",
              "      <td>2018.0</td>\n",
              "    </tr>\n",
              "    <tr>\n",
              "      <th>9530</th>\n",
              "      <td>06/09/2018</td>\n",
              "      <td>18:22:24</td>\n",
              "      <td>Fiji Islands Region</td>\n",
              "      <td>5.8</td>\n",
              "      <td>672</td>\n",
              "      <td>-18.88</td>\n",
              "      <td>179.30</td>\n",
              "      <td>A</td>\n",
              "      <td>-</td>\n",
              "      <td>2018.0</td>\n",
              "    </tr>\n",
              "  </tbody>\n",
              "</table>\n",
              "</div>"
            ],
            "text/plain": [
              "             Date Time (utc)                          Region  Magnitude  \\\n",
              "7961   20/02/2019   06:50:47                       Banda Sea        5.0   \n",
              "6813   07/07/2019   07:50:53  Eastern New Guinea Reg, P.N.G.        5.4   \n",
              "8293   17/01/2019   14:01:50                    Fiji Islands        4.7   \n",
              "11258  03/01/2018   06:42:58             Fiji Islands Region        5.5   \n",
              "9530   06/09/2018   18:22:24             Fiji Islands Region        5.8   \n",
              "\n",
              "       Depth (km)  Latitude  Longitude Mode Map    year  \n",
              "7961         2026     -6.89     129.15    A   -  2019.0  \n",
              "6813         1010     -5.96     147.90    A   -  2019.0  \n",
              "8293          689    -18.65     179.44    A   -  2019.0  \n",
              "11258         677    -19.93    -178.89    A   -  2018.0  \n",
              "9530          672    -18.88     179.30    A   -  2018.0  "
            ]
          },
          "execution_count": 2,
          "metadata": {},
          "output_type": "execute_result"
        }
      ],
      "source": [
        "url = \"https://raw.githubusercontent.com/holtzy/The-Python-Graph-Gallery/master/static/data/earthquakes.csv\"\n",
        "df = pd.read_csv(url)\n",
        "df = df[df['Depth (km)'] >= 0.01]  # depth of at least 10 meters\n",
        "df.sort_values(by='Depth (km)', ascending=False, inplace=True)\n",
        "df.head()"
      ]
    },
    {
      "cell_type": "markdown",
      "metadata": {},
      "source": [
        "## Custom bubble style\n",
        "\n",
        "The main steps to create a bubble map with folium are:\n",
        "\n",
        "- **initiate the map** with `folium.Map()`\n",
        "- **iterate over each rows** to add each individual point with `folium.CircleMarker()`\n",
        "\n",
        "In order to make each point **better looking**, in the `CircleMarker()`, we:\n",
        "\n",
        "- change `radius` to the value in `row['Depth (km)']`\n",
        "- change the `color` depending on the magnitude with: `color = '#0a9396' if row['Magnitude'] < 4 else '#ee9b00' if row['Magnitude'] < 6 else '#ae2012'`\n",
        "- change the opacity with `fill_opacity`\n",
        "- change border width with `weight`\n"
      ]
    },
    {
      "cell_type": "code",
      "execution_count": 3,
      "metadata": {},
      "outputs": [],
      "source": [
        "# Initialize map\n",
        "m = folium.Map(\n",
        "    location=[0, 0],  # center around Africa\n",
        "    zoom_start=2,  # dezoom\n",
        "    tiles='cartodb positron'  # background style\n",
        ")\n",
        "\n",
        "# Add all the individual earthquakes to the map\n",
        "for idx, row in df.iterrows():\n",
        "    color = '#0a9396' if row['Magnitude'] < 4 else '#ee9b00' if row['Magnitude'] < 6 else '#ae2012'\n",
        "    folium.CircleMarker(\n",
        "        location=[row['Latitude'], row['Longitude']],\n",
        "        radius=np.log(row['Depth (km)']) * 2,\n",
        "        color=color,\n",
        "        fill=True,\n",
        "        fill_color=color,\n",
        "        fill_opacity=0.5,\n",
        "        weight=1\n",
        "    ).add_to(m)\n",
        "\n",
        "m.save('../../static/interactiveCharts/593-customize-bubble-map-with-folium-1.html')"
      ]
    },
    {
      "cell_type": "code",
      "execution_count": 4,
      "metadata": {},
      "outputs": [
        {
          "data": {
            "text/html": [
              "<iframe\n",
              "  src=\"../../interactiveCharts/593-customize-bubble-map-with-folium-1.html\"\n",
              "  width=\"790\"\n",
              "  height=\"600\"\n",
              "  title=\"Folium map\"\n",
              "  style=\"border: none\"\n",
              ">\n",
              "</iframe>\n"
            ],
            "text/plain": [
              "<IPython.core.display.HTML object>"
            ]
          },
          "metadata": {},
          "output_type": "display_data"
        }
      ],
      "source": [
        "%%html\n",
        "<iframe\n",
        "  src=\"../../interactiveCharts/593-customize-bubble-map-with-folium-1.html\"\n",
        "  width=\"790\"\n",
        "  height=\"600\"\n",
        "  title=\"Folium map\"\n",
        "  style=\"border: none\"\n",
        ">\n",
        "</iframe>\n"
      ]
    },
    {
      "cell_type": "markdown",
      "metadata": {},
      "source": [
        "## Tooltip\n",
        "\n",
        "An interactive map without a **tooltip** wouldn't be very effective!\n",
        "\n",
        "Luckily, with the `tooltip` argument, customizing it is straightforward, and we can even incorporate some `HTML` into it.\n",
        "\n",
        "For instance, we can display the `Location`, `Magnitude`, `Depth`, and `Date`, wrap them in `<b>` tags for boldness, and set them as level 5 headings (`<h5>`).\n"
      ]
    },
    {
      "cell_type": "code",
      "execution_count": 5,
      "metadata": {},
      "outputs": [],
      "source": [
        "# Initialize map\n",
        "m = folium.Map(\n",
        "    location=[0, 0],\n",
        "    zoom_start=2,\n",
        "    tiles='cartodb positron'\n",
        ")\n",
        "\n",
        "# Add all the individual earthquakes to the map\n",
        "for idx, row in df.iterrows():\n",
        "    tooltip_text = f\"\"\"\n",
        "   <h5><b>Location:</b> {row['Region']}</h5>\n",
        "   <h5><b>Magnitude:</b> {row['Magnitude']}</h5>\n",
        "   <h5><b>Depth:</b> {row['Depth (km)']} km</h5>\n",
        "   <h5><b>Date:</b> {row['Date']}</h5>\n",
        "   \"\"\"\n",
        "    color = '#0a9396' if row['Magnitude'] < 4 else '#ee9b00' if row['Magnitude'] < 6 else '#ae2012'\n",
        "    folium.CircleMarker(\n",
        "        location=[row['Latitude'], row['Longitude']],\n",
        "        radius=np.log(row['Depth (km)']) * 2,\n",
        "        color=color,\n",
        "        fill=True,\n",
        "        fill_color=color,\n",
        "        fill_opacity=0.5,\n",
        "        weight=1,\n",
        "        tooltip=folium.Tooltip(tooltip_text, sticky=True)\n",
        "    ).add_to(m)\n",
        "\n",
        "m.save('../../static/interactiveCharts/593-customize-bubble-map-with-folium-2.html')"
      ]
    },
    {
      "cell_type": "code",
      "execution_count": 6,
      "metadata": {},
      "outputs": [
        {
          "data": {
            "text/html": [
              "<iframe\n",
              "  src=\"../../interactiveCharts/593-customize-bubble-map-with-folium-2.html\"\n",
              "  width=\"790\"\n",
              "  height=\"600\"\n",
              "  title=\"Folium map\"\n",
              "  style=\"border: none\"\n",
              ">\n",
              "</iframe>\n"
            ],
            "text/plain": [
              "<IPython.core.display.HTML object>"
            ]
          },
          "metadata": {},
          "output_type": "display_data"
        }
      ],
      "source": [
        "%%html\n",
        "<iframe\n",
        "  src=\"../../interactiveCharts/593-customize-bubble-map-with-folium-2.html\"\n",
        "  width=\"790\"\n",
        "  height=\"600\"\n",
        "  title=\"Folium map\"\n",
        "  style=\"border: none\"\n",
        ">\n",
        "</iframe>"
      ]
    },
    {
      "cell_type": "markdown",
      "metadata": {},
      "source": [
        "## Automatically cluster points\n",
        "\n",
        "`folium` comes with a set of plugins to add new features super easily!\n",
        "\n",
        "For example here we use the `MarkerCluster()` plugin to **automatically cluster** the marker into groups when zooming-out.\n",
        "\n",
        "And in order for this to work: we add the markers to the map with `.add_to(marker_cluster)` instead of `.add_to(m)`\n"
      ]
    },
    {
      "cell_type": "code",
      "execution_count": 7,
      "metadata": {},
      "outputs": [],
      "source": [
        "from folium import plugins\n",
        "\n",
        "# Initialize map\n",
        "m = folium.Map(\n",
        "    location=[0, 0],\n",
        "    zoom_start=2,\n",
        "    tiles='cartodb positron'\n",
        ")\n",
        "\n",
        "# Add earthquake data with clustering\n",
        "marker_cluster = plugins.MarkerCluster().add_to(m)\n",
        "\n",
        "# Add all the individual earthquakes to the map\n",
        "for idx, row in df.iterrows():\n",
        "    tooltip_text = f\"\"\"\n",
        "   <h5><b>Location:</b> {row['Region']}</h5>\n",
        "   <h5><b>Magnitude:</b> {row['Magnitude']}</h5>\n",
        "   <h5><b>Depth:</b> {row['Depth (km)']} km</h5>\n",
        "   <h5><b>Date:</b> {row['Date']}</h5>\n",
        "   \"\"\"\n",
        "    color = '#0a9396' if row['Magnitude'] < 4 else '#ee9b00' if row['Magnitude'] < 6 else '#ae2012'\n",
        "    folium.CircleMarker(\n",
        "        location=[row['Latitude'], row['Longitude']],\n",
        "        radius=np.log(row['Depth (km)']) * 2,\n",
        "        color=color,\n",
        "        fill=True,\n",
        "        fill_color=color,\n",
        "        fill_opacity=0.7,\n",
        "        weight=0.4,\n",
        "        tooltip=folium.Tooltip(tooltip_text, sticky=True)\n",
        "    ).add_to(marker_cluster)\n",
        "\n",
        "m.save('../../static/interactiveCharts/593-customize-bubble-map-with-folium-3.html')"
      ]
    },
    {
      "cell_type": "code",
      "execution_count": 8,
      "metadata": {},
      "outputs": [
        {
          "data": {
            "text/html": [
              "<iframe\n",
              "  src=\"../../interactiveCharts/593-customize-bubble-map-with-folium-3.html\"\n",
              "  width=\"790\"\n",
              "  height=\"600\"\n",
              "  title=\"Folium map\"\n",
              "  style=\"border: none\"\n",
              ">\n",
              "</iframe>\n"
            ],
            "text/plain": [
              "<IPython.core.display.HTML object>"
            ]
          },
          "metadata": {},
          "output_type": "display_data"
        }
      ],
      "source": [
        "%%html\n",
        "<iframe\n",
        "  src=\"../../interactiveCharts/593-customize-bubble-map-with-folium-3.html\"\n",
        "  width=\"790\"\n",
        "  height=\"600\"\n",
        "  title=\"Folium map\"\n",
        "  style=\"border: none\"\n",
        ">\n",
        "</iframe>"
      ]
    },
    {
      "attachments": {},
      "cell_type": "markdown",
      "metadata": {},
      "source": [
        "## Going further\n",
        "\n",
        "You might be interested in:\n",
        "\n",
        "- learn more about how to create [bubble maps](/bubble-map)\n",
        "- understand the basics of [folium](/288-map-background-with-folium)\n",
        "- this great [static bubble map](/web-bubble-map-with-arrows)\n"
      ]
    }
  ],
  "metadata": {
    "chartType": "bubbleMap",
    "description": "Folium is a Python library based on <code>Leaflet.js</code> JavaScript library. It allows us to create maps in the <b>style of Google Maps</b> with an additional layer of <b>customization</b>.<br/><br/>This post will explain how to use Folium to create <a href='/bubble-map'>bubble maps</a>, a kind of chart where background maps are <b>combined</b> with individual points that represent events or physical objects that have a certain <b>latitude and longitude</b>.<br/><br/>For an introduction to Folium, <a href='/288-map-background-with-folium'>check this post</a>.<br/>For an introduction to bubble map in Folium, <a href='/313-bubble-map-with-folium'>check this post</a>.",
    "family": "map",
    "kernelspec": {
      "display_name": "Python 3 (ipykernel)",
      "language": "python",
      "name": "python3"
    },
    "keywords": "matplotlib, python, tutorial, seaborn, plot, folium, bubble, customize",
    "language_info": {
      "codemirror_mode": {
        "name": "ipython",
        "version": 3
      },
      "file_extension": ".py",
      "mimetype": "text/x-python",
      "name": "python",
      "nbconvert_exporter": "python",
      "pygments_lexer": "ipython3",
      "version": "3.10.13"
    },
    "seoDescription": "How to create and customize a bubble map using Folium",
    "slug": "593-customize-bubble-map-with-folium",
    "title": "Bubble map with Folium in Python"
  },
  "nbformat": 4,
  "nbformat_minor": 4
}
