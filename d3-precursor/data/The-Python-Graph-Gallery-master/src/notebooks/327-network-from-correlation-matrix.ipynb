{
 "cells": [
  {
   "cell_type": "markdown",
   "metadata": {},
   "source": [
    "Suppose that you have 10 individuals, and know how close they are related to each other. It is possible to represent these **relationships** in a network. Each individual will be a **node**. If 2 individuals are close enough (we set a **threshold**), then they are linked by an **edge**. That will show the structure of the population!\n",
    "\n",
    "In this example, we see that our population is clearly split into 2 groups!"
   ]
  },
  {
   "cell_type": "code",
   "execution_count": 4,
   "metadata": {},
   "outputs": [
    {
     "data": {
      "image/png": "[encoded data removed]",
      "text/plain": [
       "<Figure size 432x288 with 1 Axes>"
      ]
     },
     "metadata": {},
     "output_type": "display_data"
    }
   ],
   "source": [
    "# libraries\n",
    "import pandas as pd\n",
    "import numpy as np\n",
    "import networkx as nx\n",
    "import matplotlib.pyplot as plt\n",
    " \n",
    "# I build a data set: 10 individuals and 5 variables for each\n",
    "ind1=[5,10,3,4,8,10,12,1,9,4]\n",
    "ind5=[1,1,13,4,18,5,2,11,3,8]\n",
    "df = pd.DataFrame({ 'A':ind1, 'B':ind1 + np.random.randint(10, size=(10)) , 'C':ind1 + np.random.randint(10, size=(10)) , 'D':ind1 + np.random.randint(5, size=(10)) , 'E':ind1 + np.random.randint(5, size=(10)), 'F':ind5, 'G':ind5 + np.random.randint(5, size=(10)) , 'H':ind5 + np.random.randint(5, size=(10)), 'I':ind5 + np.random.randint(5, size=(10)), 'J':ind5 + np.random.randint(5, size=(10))})\n",
    " \n",
    "# Calculate the correlation between individuals. We have to transpose first, because the corr function calculate the pairwise correlations between columns.\n",
    "corr = df.corr()\n",
    " \n",
    "# Transform it in a links data frame (3 columns only):\n",
    "links = corr.stack().reset_index()\n",
    "links.columns = ['var1', 'var2', 'value']\n",
    " \n",
    "# Keep only correlation over a threshold and remove self correlation (cor(A,A)=1)\n",
    "links_filtered=links.loc[ (links['value'] > 0.8) & (links['var1'] != links['var2']) ]\n",
    " \n",
    "# Build your graph\n",
    "G=nx.from_pandas_edgelist(links_filtered, 'var1', 'var2')\n",
    " \n",
    "# Plot the network:\n",
    "nx.draw(G, with_labels=True, node_color='orange', node_size=400, edge_color='black', linewidths=1, font_size=15)"
   ]
  }
 ],
 "metadata": {
  "chartType": "network",
  "description": "This post explains how to draw a <b>correlation network</b>: a <a href='https://python-graph-gallery.com/network-chart/'>network</a> build on a correlation matrix.",
  "family": "flow",
  "kernelspec": {
   "display_name": "Python 3",
   "language": "python",
   "name": "python3"
  },
  "keywords": "python, chart, plot, matplotlib, network, correlation",
  "language_info": {
   "codemirror_mode": {
    "name": "ipython",
    "version": 3
   },
   "file_extension": ".py",
   "mimetype": "text/x-python",
   "name": "python",
   "nbconvert_exporter": "python",
   "pygments_lexer": "ipython3",
   "version": "3.7.3"
  },
  "seoDescription": "How to plot a network chart from a correlation matrix in python",
  "slug": "327-network-from-correlation-matrix",
  "title": "Network from Correlation Matrix"
 },
 "nbformat": 4,
 "nbformat_minor": 4
}
