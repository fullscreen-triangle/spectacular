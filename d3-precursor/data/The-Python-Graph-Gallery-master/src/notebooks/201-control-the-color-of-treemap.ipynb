{
 "cells": [
  {
   "cell_type": "markdown",
   "metadata": {},
   "source": [
    "You can set the color of each group in a treemap using the `color` parameter:"
   ]
  },
  {
   "cell_type": "code",
   "execution_count": 1,
   "metadata": {},
   "outputs": [
    {
     "data": {
      "image/png": "[encoded data removed]",
      "text/plain": [
       "<Figure size 432x288 with 1 Axes>"
      ]
     },
     "metadata": {
      "needs_background": "light"
     },
     "output_type": "display_data"
    }
   ],
   "source": [
    "#libraries\n",
    "import matplotlib.pyplot as plt\n",
    "import squarify # pip install squarify (algorithm for treemap)\n",
    " \n",
    "# Change color\n",
    "squarify.plot(sizes=[13,22,35,5], label=[\"group A\", \"group B\", \"group C\", \"group D\"], color=[\"red\",\"green\",\"blue\", \"grey\"], alpha=.4 )\n",
    "plt.axis('off')\n",
    "plt.show()"
   ]
  }
 ],
 "metadata": {
  "chartType": "treemap",
  "description": "This page aims to describe the customization you can apply on a treemap. You can easily plot a treemap and change the color of each group using the squarify library.",
  "family": "partOfAWhole",
  "kernelspec": {
   "display_name": "Python 3",
   "language": "python",
   "name": "python3"
  },
  "keywords": "python, chart, plot, treemap",
  "language_info": {
   "codemirror_mode": {
    "name": "ipython",
    "version": 3
   },
   "file_extension": ".py",
   "mimetype": "text/x-python",
   "name": "python",
   "nbconvert_exporter": "python",
   "pygments_lexer": "ipython3",
   "version": "3.7.3"
  },
  "seoDescription": "How to change the colors in a treemap",
  "slug": "201-control-the-color-of-treemap",
  "title": "Control the color of Treemap"
 },
 "nbformat": 4,
 "nbformat_minor": 4
}
