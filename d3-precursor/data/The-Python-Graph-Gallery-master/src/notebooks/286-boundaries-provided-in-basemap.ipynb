{
  "cells": [
    {
      "source": [
        "> Content is available [here](https://python-graph-gallery.com/281-basic-map-with-basemap)"
      ],
      "cell_type": "markdown",
      "metadata": {}
    }
  ],
  "metadata": {
    "title": "Oh no!",
    "description": "This page about the <code>basemap</code> python library has been moved <a href='https://python-graph-gallery.com/281-basic-map-with-basemap'>somewhere else</a>! You can now read it here. I'm sorry for the inconvenience 😞",
    "family": "map",
    "chartType": "map",
    "slug": "286-boundaries-provided-in-basemap",
    "keywords": "python, chart, plot, seaborn, matplotlib, kdeplot",
    "seoDescription": "same as description but shorter",
    "kernelspec": {
      "display_name": "Python 3",
      "language": "python",
      "name": "python3"
    },
    "language_info": {
      "codemirror_mode": {
        "name": "ipython",
        "version": 3
      },
      "file_extension": ".py",
      "mimetype": "text/x-python",
      "name": "python",
      "nbconvert_exporter": "python",
      "pygments_lexer": "ipython3",
      "version": "3.8.3-final"
    }
  },
  "nbformat": 4,
  "nbformat_minor": 4
}
