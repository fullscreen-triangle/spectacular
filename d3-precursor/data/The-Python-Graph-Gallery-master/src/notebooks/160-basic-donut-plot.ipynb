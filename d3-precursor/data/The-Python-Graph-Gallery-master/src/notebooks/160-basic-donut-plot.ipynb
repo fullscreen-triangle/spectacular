{
  "cells": [
    {
      "cell_type": "markdown",
      "metadata": {},
      "source": [
        "The trick to plot a donut chart using matplotlib is to draw a [pie plot](https://python-graph-gallery.com/pie-plot/) and add a white circle in the middle of it. In order to draw a circle, you can use the `Circle()` function of matplotlib. The parameters passed to the function in the example below are:\n",
        "* `(x,y)` : center point of the circle\n",
        "* `radius` : radius of the circle\n",
        "* `color` : color of the circle\n",
        "\n",
        "In the example, the `add_artist()` function is used to add the white circle on the axes of the pie chart. In order to get the current axes instance on the current figure, the `gca()` function is used and to get the current figure, the `gcf()` function is used."
      ]
    },
    {
      "cell_type": "code",
      "execution_count": 7,
      "metadata": {},
      "outputs": [
        {
          "data": {
            "image/png": "[encoded data removed]",
            "text/plain": [
              "<Figure size 432x288 with 1 Axes>"
            ]
          },
          "metadata": {},
          "output_type": "display_data"
        }
      ],
      "source": [
        "# library\n",
        "import matplotlib.pyplot as plt\n",
        " \n",
        "# create data\n",
        "size_of_groups=[12,11,3,30]\n",
        " \n",
        "# Create a pie plot\n",
        "plt.pie(size_of_groups)\n",
        "#plt.show()\n",
        " \n",
        "# add a white circle at the center\n",
        "my_circle=plt.Circle( (0,0), 0.7, color='white')\n",
        "p=plt.gcf()\n",
        "p.gca().add_artist(my_circle)\n",
        "\n",
        "# show the graph\n",
        "plt.show()"
      ]
    }
  ],
  "metadata": {
    "chartType": "donut",
    "description": "This post aims to describe how to plot a <b>basic donut chart</b> using <a href='https://python-graph-gallery.com/matplotlib/'>matplotlib</a> library.",
    "family": "partOfAWhole",
    "kernelspec": {
      "display_name": "Python 3",
      "language": "python",
      "name": "python3"
    },
    "keywords": "python, chart, plot, matplotlib, donut, pie, circle",
    "language_info": {
      "codemirror_mode": {
        "name": "ipython",
        "version": 3
      },
      "file_extension": ".py",
      "mimetype": "text/x-python",
      "name": "python",
      "nbconvert_exporter": "python",
      "pygments_lexer": "ipython3",
      "version": "3.7.3"
    },
    "seoDescription": "Plotting a basic donut chart using matplotlib",
    "slug": "160-basic-donut-plot",
    "title": "Most basic donut plot"
  },
  "nbformat": 4,
  "nbformat_minor": 4
}
