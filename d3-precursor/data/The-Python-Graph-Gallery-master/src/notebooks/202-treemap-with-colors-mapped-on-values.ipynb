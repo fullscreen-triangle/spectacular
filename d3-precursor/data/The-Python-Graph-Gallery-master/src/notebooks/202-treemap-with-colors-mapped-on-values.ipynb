{
 "cells": [
  {
   "cell_type": "markdown",
   "metadata": {},
   "source": [
    "You can create a treemap with colors mapped on values by using squarify and matplotlib libraries. In the following example, in order to map colors, `matplotlib.colors.Normalize()` is used with `vmin` and `vmax`, minimum values and maximum values respectively. Each value in my_values list is normalized and then map to a color. "
   ]
  },
  {
   "cell_type": "code",
   "execution_count": 2,
   "metadata": {},
   "outputs": [
    {
     "data": {
      "image/png": "[encoded data removed]",
      "text/plain": [
       "<Figure size 432x288 with 1 Axes>"
      ]
     },
     "metadata": {
      "needs_background": "light"
     },
     "output_type": "display_data"
    }
   ],
   "source": [
    "#libraries\n",
    "import matplotlib\n",
    "import matplotlib.pyplot as plt\n",
    "import squarify # pip install squarify (algorithm for treemap)&lt;/pre&gt;\n",
    " \n",
    "# Create a dataset:\n",
    "my_values=[i**3 for i in range(1,100)]\n",
    " \n",
    "# create a color palette, mapped to these values\n",
    "cmap = matplotlib.cm.Blues\n",
    "mini=min(my_values)\n",
    "maxi=max(my_values)\n",
    "norm = matplotlib.colors.Normalize(vmin=mini, vmax=maxi)\n",
    "colors = [cmap(norm(value)) for value in my_values]\n",
    " \n",
    "# Change color\n",
    "squarify.plot(sizes=my_values, alpha=.8, color=colors )\n",
    "plt.axis('off')\n",
    "plt.show()"
   ]
  }
 ],
 "metadata": {
  "chartType": "treemap",
  "description": "This post aims to show how to map colors on values in a treemap.",
  "family": "partOfAWhole",
  "kernelspec": {
   "display_name": "Python 3",
   "language": "python",
   "name": "python3"
  },
  "keywords": "python, chart, plot, treemap, squarify",
  "language_info": {
   "codemirror_mode": {
    "name": "ipython",
    "version": 3
   },
   "file_extension": ".py",
   "mimetype": "text/x-python",
   "name": "python",
   "nbconvert_exporter": "python",
   "pygments_lexer": "ipython3",
   "version": "3.7.3"
  },
  "seoDescription": "Mapping colors on values in a treemap build with squarify library of python",
  "slug": "202-treemap-with-colors-mapped-on-values",
  "title": "Treemap with colors mapped on values"
 },
 "nbformat": 4,
 "nbformat_minor": 4
}
