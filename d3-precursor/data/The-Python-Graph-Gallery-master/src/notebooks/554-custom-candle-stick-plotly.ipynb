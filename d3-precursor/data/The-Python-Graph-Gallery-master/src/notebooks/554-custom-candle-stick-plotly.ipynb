{
 "cells": [
  {
   "cell_type": "markdown",
   "metadata": {
    "tags": []
   },
   "source": [
    "## Libraries\n",
    "\n",
    "First, we need to install the **plotly**:\n",
    "\n",
    "`pip install plotly`\n",
    "\n",
    "And since we'll load **data from yahoo finance**, we need the `yfinance` library:\n",
    "\n",
    "`pip install yfinance`"
   ]
  },
  {
   "cell_type": "code",
   "execution_count": 1,
   "metadata": {
    "tags": []
   },
   "outputs": [],
   "source": [
    "import plotly.graph_objects as go\n",
    "import yfinance as yf"
   ]
  },
  {
   "cell_type": "markdown",
   "metadata": {},
   "source": [
    "## Dataset\n",
    "\n",
    "[Candlestick charts](https://python-graph-gallery.com/candlestick/) are mainly used to represent **financial data**, especially stock prices.\n",
    "\n",
    "In this post, we'll load Apple's share price data, directly from our **Python** code via the `yfinance` library. All we need to do is define the desired **start** and **end** data (`yyyy-mm-dd` format), and the **ticker** or symbol associated with this company (in this case `\"AAPL\"`).\n",
    "\n",
    "Our dataset must have the **characteristics** needed to produce our graph easily:\n",
    "- be a pandas dataframe\n",
    "- a date index\n",
    "- an Open column\n",
    "- a High column\n",
    "- a Low column\n",
    "- a Close column\n",
    "\n",
    "The **tickers** can be found on easily on [yahoo finance](https://finance.yahoo.com)."
   ]
  },
  {
   "cell_type": "code",
   "execution_count": 2,
   "metadata": {
    "tags": []
   },
   "outputs": [
    {
     "name": "stdout",
     "output_type": "stream",
     "text": [
      "[*********************100%%**********************]  1 of 1 completed\n"
     ]
    }
   ],
   "source": [
    "# Define the stock symbol and date range\n",
    "stock_symbol = \"^FCHI\"  # Example: CAC40 (largest French companies)\n",
    "start_date = \"2022-01-01\"\n",
    "end_date = \"2022-03-30\"\n",
    "\n",
    "# Load historical data\n",
    "stock_data = yf.download(stock_symbol,\n",
    "                         start=start_date, end=end_date)"
   ]
  },
  {
   "cell_type": "markdown",
   "metadata": {},
   "source": [
    "## Candlestick with custom colors\n",
    "\n",
    "Once we've opened our dataset, we'll now **create the graph**. We have to **specify which column to use** for opening, closing etc. \n",
    "\n",
    "In order to **change the colors**, we need to add the `increasing_line_color` and `decreasing_line_color` arguments with the desired colors."
   ]
  },
  {
   "cell_type": "code",
   "execution_count": 3,
   "metadata": {
    "tags": []
   },
   "outputs": [
    {
     "data": {
      "application/vnd.plotly.v1+json": {
       "config": {
        "plotlyServerURL": "https://plot.ly"
       },
       "data": [
        {
         "close": [
          7217.22021484375,
          7317.41015625,
          7376.3701171875,
          7249.66015625,
          7219.47998046875,
          7115.77001953125,
          7183.3798828125,
          7237.18994140625,
          7201.14013671875,
          7143,
          7201.64013671875,
          7133.830078125,
          7172.97998046875,
          7194.16015625,
          7068.58984375,
          6787.7900390625,
          6837.9599609375,
          6981.9599609375,
          7023.7998046875,
          6965.8798828125,
          6999.2001953125,
          7099.490234375,
          7115.27001953125,
          7005.6298828125,
          6951.3798828125,
          7009.25,
          7028.41015625,
          7130.8798828125,
          7101.5498046875,
          7011.60009765625,
          6852.2001953125,
          6979.97021484375,
          6964.97998046875,
          6946.81982421875,
          6929.6298828125,
          6788.33984375,
          6787.60009765625,
          6780.669921875,
          6521.0498046875,
          6752.43017578125,
          6658.830078125,
          6396.490234375,
          6498.02001953125,
          6378.3701171875,
          6061.66015625,
          5982.27001953125,
          5962.9599609375,
          6387.830078125,
          6207.2001953125,
          6260.25,
          6369.93994140625,
          6355,
          6588.64013671875,
          6612.52001953125,
          6620.240234375,
          6582.330078125,
          6659.41015625,
          6581.43017578125,
          6555.77001953125,
          6553.68017578125,
          6589.10986328125,
          6792.16015625
         ],
         "decreasing": {
          "line": {
           "color": "orange"
          }
         },
         "high": [
          7245.66015625,
          7332.2099609375,
          7384.85986328125,
          7316.06005859375,
          7269.64990234375,
          7250.240234375,
          7227.7099609375,
          7249.8798828125,
          7227.35009765625,
          7171.39990234375,
          7213.7001953125,
          7175.4599609375,
          7211.240234375,
          7199.97021484375,
          7122.06005859375,
          7070.919921875,
          6890.5400390625,
          7024.14013671875,
          7053.4501953125,
          7053,
          7043.22021484375,
          7105.22998046875,
          7150.5400390625,
          7125.580078125,
          7066.43994140625,
          7025.58984375,
          7085.64013671875,
          7146.31005859375,
          7169.6298828125,
          7071.009765625,
          6875.31005859375,
          6983.14013671875,
          7031.93017578125,
          7017.06982421875,
          6995.6201171875,
          6986.830078125,
          6834.77001953125,
          6904.81005859375,
          6617.08984375,
          6762.77978515625,
          6684.5400390625,
          6662.25,
          6544.14990234375,
          6543.77001953125,
          6321.08984375,
          6115.22998046875,
          6169.60009765625,
          6387.830078125,
          6380.77001953125,
          6466.1201171875,
          6421.080078125,
          6383.75,
          6680,
          6635.31005859375,
          6620.240234375,
          6642.4599609375,
          6666.83984375,
          6684.7001953125,
          6636.580078125,
          6615.89990234375,
          6683.7001953125,
          6829.39990234375
         ],
         "increasing": {
          "line": {
           "color": "purple"
          }
         },
         "low": [
          7195.81982421875,
          7250.240234375,
          7313.52978515625,
          7240.8798828125,
          7178.18017578125,
          7105.5498046875,
          7160.43994140625,
          7183.3798828125,
          7166.93994140625,
          7119.009765625,
          7148.97998046875,
          7098.18994140625,
          7104.10986328125,
          7123.6201171875,
          7013.490234375,
          6754.240234375,
          6776.7998046875,
          6901.740234375,
          6873.60009765625,
          6846.22021484375,
          6937.10009765625,
          7035.91015625,
          7109.2998046875,
          6995.41015625,
          6914.77001953125,
          6929.7099609375,
          6994.14990234375,
          7086.33984375,
          7051.60009765625,
          6992.08984375,
          6757.330078125,
          6823.4501953125,
          6931.08984375,
          6905.68994140625,
          6895.08984375,
          6744.1298828125,
          6633.740234375,
          6768.3798828125,
          6432.89013671875,
          6521.56005859375,
          6516.16015625,
          6396.490234375,
          6312.2998046875,
          6361.60009765625,
          6061.66015625,
          5756.3798828125,
          5903.10009765625,
          6122.7998046875,
          6166.10986328125,
          6165.41015625,
          6271.81982421875,
          6206.0498046875,
          6481.7001953125,
          6530.7900390625,
          6499.58984375,
          6574.06982421875,
          6578.91015625,
          6559.31005859375,
          6541.31982421875,
          6538.7998046875,
          6572.009765625,
          6658.77978515625
         ],
         "open": [
          7197.39990234375,
          7273.56982421875,
          7320.47998046875,
          7264,
          7250.7900390625,
          7245.2099609375,
          7185.2099609375,
          7235.47021484375,
          7215.47998046875,
          7132.58984375,
          7167.52978515625,
          7172.43017578125,
          7104.10986328125,
          7190.02001953125,
          7088.43994140625,
          7014.83984375,
          6870.27001953125,
          6901.740234375,
          6879.64013671875,
          7043.43017578125,
          7039.7099609375,
          7052.2998046875,
          7117.4501953125,
          7115.2998046875,
          7049.7998046875,
          6987.169921875,
          7008.2001953125,
          7086.33984375,
          7141.68994140625,
          7025.5,
          6868.06982421875,
          6830.740234375,
          7009.68994140625,
          6999.1298828125,
          6951.830078125,
          6984.31005859375,
          6633.740234375,
          6801.66015625,
          6496.25,
          6571.9501953125,
          6620.47998046875,
          6646.16015625,
          6359.97998046875,
          6488.25,
          6308.33984375,
          5887.830078125,
          5906.6201171875,
          6131.27978515625,
          6376.56982421875,
          6233.1201171875,
          6298.9599609375,
          6294.72021484375,
          6484.330078125,
          6617.22998046875,
          6613.9501953125,
          6608.7900390625,
          6586.64990234375,
          6674.68017578125,
          6593.14990234375,
          6569.4501953125,
          6578.72021484375,
          6675.14990234375
         ],
         "type": "candlestick",
         "x": [
          "2022-01-03T00:00:00",
          "2022-01-04T00:00:00",
          "2022-01-05T00:00:00",
          "2022-01-06T00:00:00",
          "2022-01-07T00:00:00",
          "2022-01-10T00:00:00",
          "2022-01-11T00:00:00",
          "2022-01-12T00:00:00",
          "2022-01-13T00:00:00",
          "2022-01-14T00:00:00",
          "2022-01-17T00:00:00",
          "2022-01-18T00:00:00",
          "2022-01-19T00:00:00",
          "2022-01-20T00:00:00",
          "2022-01-21T00:00:00",
          "2022-01-24T00:00:00",
          "2022-01-25T00:00:00",
          "2022-01-26T00:00:00",
          "2022-01-27T00:00:00",
          "2022-01-28T00:00:00",
          "2022-01-31T00:00:00",
          "2022-02-01T00:00:00",
          "2022-02-02T00:00:00",
          "2022-02-03T00:00:00",
          "2022-02-04T00:00:00",
          "2022-02-07T00:00:00",
          "2022-02-08T00:00:00",
          "2022-02-09T00:00:00",
          "2022-02-10T00:00:00",
          "2022-02-11T00:00:00",
          "2022-02-14T00:00:00",
          "2022-02-15T00:00:00",
          "2022-02-16T00:00:00",
          "2022-02-17T00:00:00",
          "2022-02-18T00:00:00",
          "2022-02-21T00:00:00",
          "2022-02-22T00:00:00",
          "2022-02-23T00:00:00",
          "2022-02-24T00:00:00",
          "2022-02-25T00:00:00",
          "2022-02-28T00:00:00",
          "2022-03-01T00:00:00",
          "2022-03-02T00:00:00",
          "2022-03-03T00:00:00",
          "2022-03-04T00:00:00",
          "2022-03-07T00:00:00",
          "2022-03-08T00:00:00",
          "2022-03-09T00:00:00",
          "2022-03-10T00:00:00",
          "2022-03-11T00:00:00",
          "2022-03-14T00:00:00",
          "2022-03-15T00:00:00",
          "2022-03-16T00:00:00",
          "2022-03-17T00:00:00",
          "2022-03-18T00:00:00",
          "2022-03-21T00:00:00",
          "2022-03-22T00:00:00",
          "2022-03-23T00:00:00",
          "2022-03-24T00:00:00",
          "2022-03-25T00:00:00",
          "2022-03-28T00:00:00",
          "2022-03-29T00:00:00"
         ]
        }
       ],
       "layout": {
        "autosize": false,
        "height": 500,
        "template": {
         "data": {
          "bar": [
           {
            "error_x": {
             "color": "#2a3f5f"
            },
            "error_y": {
             "color": "#2a3f5f"
            },
            "marker": {
             "line": {
              "color": "#E5ECF6",
              "width": 0.5
             },
             "pattern": {
              "fillmode": "overlay",
              "size": 10,
              "solidity": 0.2
             }
            },
            "type": "bar"
           }
          ],
          "barpolar": [
           {
            "marker": {
             "line": {
              "color": "#E5ECF6",
              "width": 0.5
             },
             "pattern": {
              "fillmode": "overlay",
              "size": 10,
              "solidity": 0.2
             }
            },
            "type": "barpolar"
           }
          ],
          "carpet": [
           {
            "aaxis": {
             "endlinecolor": "#2a3f5f",
             "gridcolor": "white",
             "linecolor": "white",
             "minorgridcolor": "white",
             "startlinecolor": "#2a3f5f"
            },
            "baxis": {
             "endlinecolor": "#2a3f5f",
             "gridcolor": "white",
             "linecolor": "white",
             "minorgridcolor": "white",
             "startlinecolor": "#2a3f5f"
            },
            "type": "carpet"
           }
          ],
          "choropleth": [
           {
            "colorbar": {
             "outlinewidth": 0,
             "ticks": ""
            },
            "type": "choropleth"
           }
          ],
          "contour": [
           {
            "colorbar": {
             "outlinewidth": 0,
             "ticks": ""
            },
            "colorscale": [
             [
              0,
              "#0d0887"
             ],
             [
              0.1111111111111111,
              "#46039f"
             ],
             [
              0.2222222222222222,
              "#7201a8"
             ],
             [
              0.3333333333333333,
              "#9c179e"
             ],
             [
              0.4444444444444444,
              "#bd3786"
             ],
             [
              0.5555555555555556,
              "#d8576b"
             ],
             [
              0.6666666666666666,
              "#ed7953"
             ],
             [
              0.7777777777777778,
              "#fb9f3a"
             ],
             [
              0.8888888888888888,
              "#fdca26"
             ],
             [
              1,
              "#f0f921"
             ]
            ],
            "type": "contour"
           }
          ],
          "contourcarpet": [
           {
            "colorbar": {
             "outlinewidth": 0,
             "ticks": ""
            },
            "type": "contourcarpet"
           }
          ],
          "heatmap": [
           {
            "colorbar": {
             "outlinewidth": 0,
             "ticks": ""
            },
            "colorscale": [
             [
              0,
              "#0d0887"
             ],
             [
              0.1111111111111111,
              "#46039f"
             ],
             [
              0.2222222222222222,
              "#7201a8"
             ],
             [
              0.3333333333333333,
              "#9c179e"
             ],
             [
              0.4444444444444444,
              "#bd3786"
             ],
             [
              0.5555555555555556,
              "#d8576b"
             ],
             [
              0.6666666666666666,
              "#ed7953"
             ],
             [
              0.7777777777777778,
              "#fb9f3a"
             ],
             [
              0.8888888888888888,
              "#fdca26"
             ],
             [
              1,
              "#f0f921"
             ]
            ],
            "type": "heatmap"
           }
          ],
          "heatmapgl": [
           {
            "colorbar": {
             "outlinewidth": 0,
             "ticks": ""
            },
            "colorscale": [
             [
              0,
              "#0d0887"
             ],
             [
              0.1111111111111111,
              "#46039f"
             ],
             [
              0.2222222222222222,
              "#7201a8"
             ],
             [
              0.3333333333333333,
              "#9c179e"
             ],
             [
              0.4444444444444444,
              "#bd3786"
             ],
             [
              0.5555555555555556,
              "#d8576b"
             ],
             [
              0.6666666666666666,
              "#ed7953"
             ],
             [
              0.7777777777777778,
              "#fb9f3a"
             ],
             [
              0.8888888888888888,
              "#fdca26"
             ],
             [
              1,
              "#f0f921"
             ]
            ],
            "type": "heatmapgl"
           }
          ],
          "histogram": [
           {
            "marker": {
             "pattern": {
              "fillmode": "overlay",
              "size": 10,
              "solidity": 0.2
             }
            },
            "type": "histogram"
           }
          ],
          "histogram2d": [
           {
            "colorbar": {
             "outlinewidth": 0,
             "ticks": ""
            },
            "colorscale": [
             [
              0,
              "#0d0887"
             ],
             [
              0.1111111111111111,
              "#46039f"
             ],
             [
              0.2222222222222222,
              "#7201a8"
             ],
             [
              0.3333333333333333,
              "#9c179e"
             ],
             [
              0.4444444444444444,
              "#bd3786"
             ],
             [
              0.5555555555555556,
              "#d8576b"
             ],
             [
              0.6666666666666666,
              "#ed7953"
             ],
             [
              0.7777777777777778,
              "#fb9f3a"
             ],
             [
              0.8888888888888888,
              "#fdca26"
             ],
             [
              1,
              "#f0f921"
             ]
            ],
            "type": "histogram2d"
           }
          ],
          "histogram2dcontour": [
           {
            "colorbar": {
             "outlinewidth": 0,
             "ticks": ""
            },
            "colorscale": [
             [
              0,
              "#0d0887"
             ],
             [
              0.1111111111111111,
              "#46039f"
             ],
             [
              0.2222222222222222,
              "#7201a8"
             ],
             [
              0.3333333333333333,
              "#9c179e"
             ],
             [
              0.4444444444444444,
              "#bd3786"
             ],
             [
              0.5555555555555556,
              "#d8576b"
             ],
             [
              0.6666666666666666,
              "#ed7953"
             ],
             [
              0.7777777777777778,
              "#fb9f3a"
             ],
             [
              0.8888888888888888,
              "#fdca26"
             ],
             [
              1,
              "#f0f921"
             ]
            ],
            "type": "histogram2dcontour"
           }
          ],
          "mesh3d": [
           {
            "colorbar": {
             "outlinewidth": 0,
             "ticks": ""
            },
            "type": "mesh3d"
           }
          ],
          "parcoords": [
           {
            "line": {
             "colorbar": {
              "outlinewidth": 0,
              "ticks": ""
             }
            },
            "type": "parcoords"
           }
          ],
          "pie": [
           {
            "automargin": true,
            "type": "pie"
           }
          ],
          "scatter": [
           {
            "fillpattern": {
             "fillmode": "overlay",
             "size": 10,
             "solidity": 0.2
            },
            "type": "scatter"
           }
          ],
          "scatter3d": [
           {
            "line": {
             "colorbar": {
              "outlinewidth": 0,
              "ticks": ""
             }
            },
            "marker": {
             "colorbar": {
              "outlinewidth": 0,
              "ticks": ""
             }
            },
            "type": "scatter3d"
           }
          ],
          "scattercarpet": [
           {
            "marker": {
             "colorbar": {
              "outlinewidth": 0,
              "ticks": ""
             }
            },
            "type": "scattercarpet"
           }
          ],
          "scattergeo": [
           {
            "marker": {
             "colorbar": {
              "outlinewidth": 0,
              "ticks": ""
             }
            },
            "type": "scattergeo"
           }
          ],
          "scattergl": [
           {
            "marker": {
             "colorbar": {
              "outlinewidth": 0,
              "ticks": ""
             }
            },
            "type": "scattergl"
           }
          ],
          "scattermapbox": [
           {
            "marker": {
             "colorbar": {
              "outlinewidth": 0,
              "ticks": ""
             }
            },
            "type": "scattermapbox"
           }
          ],
          "scatterpolar": [
           {
            "marker": {
             "colorbar": {
              "outlinewidth": 0,
              "ticks": ""
             }
            },
            "type": "scatterpolar"
           }
          ],
          "scatterpolargl": [
           {
            "marker": {
             "colorbar": {
              "outlinewidth": 0,
              "ticks": ""
             }
            },
            "type": "scatterpolargl"
           }
          ],
          "scatterternary": [
           {
            "marker": {
             "colorbar": {
              "outlinewidth": 0,
              "ticks": ""
             }
            },
            "type": "scatterternary"
           }
          ],
          "surface": [
           {
            "colorbar": {
             "outlinewidth": 0,
             "ticks": ""
            },
            "colorscale": [
             [
              0,
              "#0d0887"
             ],
             [
              0.1111111111111111,
              "#46039f"
             ],
             [
              0.2222222222222222,
              "#7201a8"
             ],
             [
              0.3333333333333333,
              "#9c179e"
             ],
             [
              0.4444444444444444,
              "#bd3786"
             ],
             [
              0.5555555555555556,
              "#d8576b"
             ],
             [
              0.6666666666666666,
              "#ed7953"
             ],
             [
              0.7777777777777778,
              "#fb9f3a"
             ],
             [
              0.8888888888888888,
              "#fdca26"
             ],
             [
              1,
              "#f0f921"
             ]
            ],
            "type": "surface"
           }
          ],
          "table": [
           {
            "cells": {
             "fill": {
              "color": "#EBF0F8"
             },
             "line": {
              "color": "white"
             }
            },
            "header": {
             "fill": {
              "color": "#C8D4E3"
             },
             "line": {
              "color": "white"
             }
            },
            "type": "table"
           }
          ]
         },
         "layout": {
          "annotationdefaults": {
           "arrowcolor": "#2a3f5f",
           "arrowhead": 0,
           "arrowwidth": 1
          },
          "autotypenumbers": "strict",
          "coloraxis": {
           "colorbar": {
            "outlinewidth": 0,
            "ticks": ""
           }
          },
          "colorscale": {
           "diverging": [
            [
             0,
             "#8e0152"
            ],
            [
             0.1,
             "#c51b7d"
            ],
            [
             0.2,
             "#de77ae"
            ],
            [
             0.3,
             "#f1b6da"
            ],
            [
             0.4,
             "#fde0ef"
            ],
            [
             0.5,
             "#f7f7f7"
            ],
            [
             0.6,
             "#e6f5d0"
            ],
            [
             0.7,
             "#b8e186"
            ],
            [
             0.8,
             "#7fbc41"
            ],
            [
             0.9,
             "#4d9221"
            ],
            [
             1,
             "#276419"
            ]
           ],
           "sequential": [
            [
             0,
             "#0d0887"
            ],
            [
             0.1111111111111111,
             "#46039f"
            ],
            [
             0.2222222222222222,
             "#7201a8"
            ],
            [
             0.3333333333333333,
             "#9c179e"
            ],
            [
             0.4444444444444444,
             "#bd3786"
            ],
            [
             0.5555555555555556,
             "#d8576b"
            ],
            [
             0.6666666666666666,
             "#ed7953"
            ],
            [
             0.7777777777777778,
             "#fb9f3a"
            ],
            [
             0.8888888888888888,
             "#fdca26"
            ],
            [
             1,
             "#f0f921"
            ]
           ],
           "sequentialminus": [
            [
             0,
             "#0d0887"
            ],
            [
             0.1111111111111111,
             "#46039f"
            ],
            [
             0.2222222222222222,
             "#7201a8"
            ],
            [
             0.3333333333333333,
             "#9c179e"
            ],
            [
             0.4444444444444444,
             "#bd3786"
            ],
            [
             0.5555555555555556,
             "#d8576b"
            ],
            [
             0.6666666666666666,
             "#ed7953"
            ],
            [
             0.7777777777777778,
             "#fb9f3a"
            ],
            [
             0.8888888888888888,
             "#fdca26"
            ],
            [
             1,
             "#f0f921"
            ]
           ]
          },
          "colorway": [
           "#636efa",
           "#EF553B",
           "#00cc96",
           "#ab63fa",
           "#FFA15A",
           "#19d3f3",
           "#FF6692",
           "#B6E880",
           "#FF97FF",
           "#FECB52"
          ],
          "font": {
           "color": "#2a3f5f"
          },
          "geo": {
           "bgcolor": "white",
           "lakecolor": "white",
           "landcolor": "#E5ECF6",
           "showlakes": true,
           "showland": true,
           "subunitcolor": "white"
          },
          "hoverlabel": {
           "align": "left"
          },
          "hovermode": "closest",
          "mapbox": {
           "style": "light"
          },
          "paper_bgcolor": "white",
          "plot_bgcolor": "#E5ECF6",
          "polar": {
           "angularaxis": {
            "gridcolor": "white",
            "linecolor": "white",
            "ticks": ""
           },
           "bgcolor": "#E5ECF6",
           "radialaxis": {
            "gridcolor": "white",
            "linecolor": "white",
            "ticks": ""
           }
          },
          "scene": {
           "xaxis": {
            "backgroundcolor": "#E5ECF6",
            "gridcolor": "white",
            "gridwidth": 2,
            "linecolor": "white",
            "showbackground": true,
            "ticks": "",
            "zerolinecolor": "white"
           },
           "yaxis": {
            "backgroundcolor": "#E5ECF6",
            "gridcolor": "white",
            "gridwidth": 2,
            "linecolor": "white",
            "showbackground": true,
            "ticks": "",
            "zerolinecolor": "white"
           },
           "zaxis": {
            "backgroundcolor": "#E5ECF6",
            "gridcolor": "white",
            "gridwidth": 2,
            "linecolor": "white",
            "showbackground": true,
            "ticks": "",
            "zerolinecolor": "white"
           }
          },
          "shapedefaults": {
           "line": {
            "color": "#2a3f5f"
           }
          },
          "ternary": {
           "aaxis": {
            "gridcolor": "white",
            "linecolor": "white",
            "ticks": ""
           },
           "baxis": {
            "gridcolor": "white",
            "linecolor": "white",
            "ticks": ""
           },
           "bgcolor": "#E5ECF6",
           "caxis": {
            "gridcolor": "white",
            "linecolor": "white",
            "ticks": ""
           }
          },
          "title": {
           "x": 0.05
          },
          "xaxis": {
           "automargin": true,
           "gridcolor": "white",
           "linecolor": "white",
           "ticks": "",
           "title": {
            "standoff": 15
           },
           "zerolinecolor": "white",
           "zerolinewidth": 2
          },
          "yaxis": {
           "automargin": true,
           "gridcolor": "white",
           "linecolor": "white",
           "ticks": "",
           "title": {
            "standoff": 15
           },
           "zerolinecolor": "white",
           "zerolinewidth": 2
          }
         }
        },
        "width": 700,
        "xaxis": {
         "rangeslider": {
          "visible": false
         }
        }
       }
      }
     },
     "metadata": {},
     "output_type": "display_data"
    }
   ],
   "source": [
    "fig = go.Figure(data=[go.Candlestick(\n",
    "                x = stock_data.index, # date values\n",
    "                open = stock_data['Open'],\n",
    "                high = stock_data['High'],\n",
    "                low = stock_data['Low'],\n",
    "                close = stock_data['Close'],\n",
    "                increasing_line_color = 'purple',\n",
    "                decreasing_line_color = 'orange')])\n",
    "\n",
    "# Mask a default range slider\n",
    "fig.update_layout(xaxis_rangeslider_visible=False)\n",
    "\n",
    "# Set layout size\n",
    "fig.update_layout(\n",
    "    autosize=False,\n",
    "    width=700,\n",
    "    height=500)"
   ]
  },
  {
   "cell_type": "markdown",
   "metadata": {},
   "source": [
    "Now, let's save the graph in a HTML file and display it in this website using an `iframe`"
   ]
  },
  {
   "cell_type": "code",
   "execution_count": 4,
   "metadata": {},
   "outputs": [],
   "source": [
    "# save this file as a standalong html file:\n",
    "fig.write_html(\"../../static/interactiveCharts/candlestick-plotly-custom.html\")"
   ]
  },
  {
   "cell_type": "code",
   "execution_count": 5,
   "metadata": {},
   "outputs": [
    {
     "data": {
      "text/html": [
       "<iframe \n",
       "    src=\"../../interactiveCharts/candlestick-plotly-custom.html\" \n",
       "    width=\"800\" \n",
       "    height=\"600\" \n",
       "    title=\"custom candlestick with plotly\" \n",
       "    style=\"border:none\">\n",
       "</iframe>\n"
      ],
      "text/plain": [
       "<IPython.core.display.HTML object>"
      ]
     },
     "metadata": {},
     "output_type": "display_data"
    }
   ],
   "source": [
    "%%html\n",
    "<iframe \n",
    "    src=\"../../interactiveCharts/candlestick-plotly-custom.html\" \n",
    "    width=\"800\" \n",
    "    height=\"600\" \n",
    "    title=\"custom candlestick with plotly\" \n",
    "    style=\"border:none\">\n",
    "</iframe>"
   ]
  },
  {
   "cell_type": "markdown",
   "metadata": {},
   "source": [
    "## Custom layout\n",
    "\n",
    "-  **Title**: Added a title to the chart using `update_layout`\n",
    "\n",
    "- **Background Color**: Set the background color of the plot to white\n",
    "\n",
    "- **Grid Lines**: Added grid lines to both the `x` and `y` axes for easier reference\n",
    "\n",
    "- **Candlestick Border Customization**: Customized the color and width of the candlestick borders for increasing (`purple`) and decreasing (`orange`) periods\n",
    "\n",
    "- **Range Slider**: Enabled the range slider for zooming in and out on the `x-axis`. Customized its appearance by setting the thickness, background color, border color, and border width\n",
    "\n",
    "These customizations enhance the aesthetics and functionality of your candlestick chart, making it more **informative** and visually **appealing**."
   ]
  },
  {
   "cell_type": "code",
   "execution_count": 6,
   "metadata": {
    "tags": []
   },
   "outputs": [
    {
     "data": {
      "application/vnd.plotly.v1+json": {
       "config": {
        "plotlyServerURL": "https://plot.ly"
       },
       "data": [
        {
         "close": [
          7217.22021484375,
          7317.41015625,
          7376.3701171875,
          7249.66015625,
          7219.47998046875,
          7115.77001953125,
          7183.3798828125,
          7237.18994140625,
          7201.14013671875,
          7143,
          7201.64013671875,
          7133.830078125,
          7172.97998046875,
          7194.16015625,
          7068.58984375,
          6787.7900390625,
          6837.9599609375,
          6981.9599609375,
          7023.7998046875,
          6965.8798828125,
          6999.2001953125,
          7099.490234375,
          7115.27001953125,
          7005.6298828125,
          6951.3798828125,
          7009.25,
          7028.41015625,
          7130.8798828125,
          7101.5498046875,
          7011.60009765625,
          6852.2001953125,
          6979.97021484375,
          6964.97998046875,
          6946.81982421875,
          6929.6298828125,
          6788.33984375,
          6787.60009765625,
          6780.669921875,
          6521.0498046875,
          6752.43017578125,
          6658.830078125,
          6396.490234375,
          6498.02001953125,
          6378.3701171875,
          6061.66015625,
          5982.27001953125,
          5962.9599609375,
          6387.830078125,
          6207.2001953125,
          6260.25,
          6369.93994140625,
          6355,
          6588.64013671875,
          6612.52001953125,
          6620.240234375,
          6582.330078125,
          6659.41015625,
          6581.43017578125,
          6555.77001953125,
          6553.68017578125,
          6589.10986328125,
          6792.16015625
         ],
         "decreasing": {
          "line": {
           "color": "orange"
          }
         },
         "high": [
          7245.66015625,
          7332.2099609375,
          7384.85986328125,
          7316.06005859375,
          7269.64990234375,
          7250.240234375,
          7227.7099609375,
          7249.8798828125,
          7227.35009765625,
          7171.39990234375,
          7213.7001953125,
          7175.4599609375,
          7211.240234375,
          7199.97021484375,
          7122.06005859375,
          7070.919921875,
          6890.5400390625,
          7024.14013671875,
          7053.4501953125,
          7053,
          7043.22021484375,
          7105.22998046875,
          7150.5400390625,
          7125.580078125,
          7066.43994140625,
          7025.58984375,
          7085.64013671875,
          7146.31005859375,
          7169.6298828125,
          7071.009765625,
          6875.31005859375,
          6983.14013671875,
          7031.93017578125,
          7017.06982421875,
          6995.6201171875,
          6986.830078125,
          6834.77001953125,
          6904.81005859375,
          6617.08984375,
          6762.77978515625,
          6684.5400390625,
          6662.25,
          6544.14990234375,
          6543.77001953125,
          6321.08984375,
          6115.22998046875,
          6169.60009765625,
          6387.830078125,
          6380.77001953125,
          6466.1201171875,
          6421.080078125,
          6383.75,
          6680,
          6635.31005859375,
          6620.240234375,
          6642.4599609375,
          6666.83984375,
          6684.7001953125,
          6636.580078125,
          6615.89990234375,
          6683.7001953125,
          6829.39990234375
         ],
         "increasing": {
          "line": {
           "color": "purple"
          }
         },
         "low": [
          7195.81982421875,
          7250.240234375,
          7313.52978515625,
          7240.8798828125,
          7178.18017578125,
          7105.5498046875,
          7160.43994140625,
          7183.3798828125,
          7166.93994140625,
          7119.009765625,
          7148.97998046875,
          7098.18994140625,
          7104.10986328125,
          7123.6201171875,
          7013.490234375,
          6754.240234375,
          6776.7998046875,
          6901.740234375,
          6873.60009765625,
          6846.22021484375,
          6937.10009765625,
          7035.91015625,
          7109.2998046875,
          6995.41015625,
          6914.77001953125,
          6929.7099609375,
          6994.14990234375,
          7086.33984375,
          7051.60009765625,
          6992.08984375,
          6757.330078125,
          6823.4501953125,
          6931.08984375,
          6905.68994140625,
          6895.08984375,
          6744.1298828125,
          6633.740234375,
          6768.3798828125,
          6432.89013671875,
          6521.56005859375,
          6516.16015625,
          6396.490234375,
          6312.2998046875,
          6361.60009765625,
          6061.66015625,
          5756.3798828125,
          5903.10009765625,
          6122.7998046875,
          6166.10986328125,
          6165.41015625,
          6271.81982421875,
          6206.0498046875,
          6481.7001953125,
          6530.7900390625,
          6499.58984375,
          6574.06982421875,
          6578.91015625,
          6559.31005859375,
          6541.31982421875,
          6538.7998046875,
          6572.009765625,
          6658.77978515625
         ],
         "name": "Candlesticks",
         "open": [
          7197.39990234375,
          7273.56982421875,
          7320.47998046875,
          7264,
          7250.7900390625,
          7245.2099609375,
          7185.2099609375,
          7235.47021484375,
          7215.47998046875,
          7132.58984375,
          7167.52978515625,
          7172.43017578125,
          7104.10986328125,
          7190.02001953125,
          7088.43994140625,
          7014.83984375,
          6870.27001953125,
          6901.740234375,
          6879.64013671875,
          7043.43017578125,
          7039.7099609375,
          7052.2998046875,
          7117.4501953125,
          7115.2998046875,
          7049.7998046875,
          6987.169921875,
          7008.2001953125,
          7086.33984375,
          7141.68994140625,
          7025.5,
          6868.06982421875,
          6830.740234375,
          7009.68994140625,
          6999.1298828125,
          6951.830078125,
          6984.31005859375,
          6633.740234375,
          6801.66015625,
          6496.25,
          6571.9501953125,
          6620.47998046875,
          6646.16015625,
          6359.97998046875,
          6488.25,
          6308.33984375,
          5887.830078125,
          5906.6201171875,
          6131.27978515625,
          6376.56982421875,
          6233.1201171875,
          6298.9599609375,
          6294.72021484375,
          6484.330078125,
          6617.22998046875,
          6613.9501953125,
          6608.7900390625,
          6586.64990234375,
          6674.68017578125,
          6593.14990234375,
          6569.4501953125,
          6578.72021484375,
          6675.14990234375
         ],
         "type": "candlestick",
         "x": [
          "2022-01-03T00:00:00",
          "2022-01-04T00:00:00",
          "2022-01-05T00:00:00",
          "2022-01-06T00:00:00",
          "2022-01-07T00:00:00",
          "2022-01-10T00:00:00",
          "2022-01-11T00:00:00",
          "2022-01-12T00:00:00",
          "2022-01-13T00:00:00",
          "2022-01-14T00:00:00",
          "2022-01-17T00:00:00",
          "2022-01-18T00:00:00",
          "2022-01-19T00:00:00",
          "2022-01-20T00:00:00",
          "2022-01-21T00:00:00",
          "2022-01-24T00:00:00",
          "2022-01-25T00:00:00",
          "2022-01-26T00:00:00",
          "2022-01-27T00:00:00",
          "2022-01-28T00:00:00",
          "2022-01-31T00:00:00",
          "2022-02-01T00:00:00",
          "2022-02-02T00:00:00",
          "2022-02-03T00:00:00",
          "2022-02-04T00:00:00",
          "2022-02-07T00:00:00",
          "2022-02-08T00:00:00",
          "2022-02-09T00:00:00",
          "2022-02-10T00:00:00",
          "2022-02-11T00:00:00",
          "2022-02-14T00:00:00",
          "2022-02-15T00:00:00",
          "2022-02-16T00:00:00",
          "2022-02-17T00:00:00",
          "2022-02-18T00:00:00",
          "2022-02-21T00:00:00",
          "2022-02-22T00:00:00",
          "2022-02-23T00:00:00",
          "2022-02-24T00:00:00",
          "2022-02-25T00:00:00",
          "2022-02-28T00:00:00",
          "2022-03-01T00:00:00",
          "2022-03-02T00:00:00",
          "2022-03-03T00:00:00",
          "2022-03-04T00:00:00",
          "2022-03-07T00:00:00",
          "2022-03-08T00:00:00",
          "2022-03-09T00:00:00",
          "2022-03-10T00:00:00",
          "2022-03-11T00:00:00",
          "2022-03-14T00:00:00",
          "2022-03-15T00:00:00",
          "2022-03-16T00:00:00",
          "2022-03-17T00:00:00",
          "2022-03-18T00:00:00",
          "2022-03-21T00:00:00",
          "2022-03-22T00:00:00",
          "2022-03-23T00:00:00",
          "2022-03-24T00:00:00",
          "2022-03-25T00:00:00",
          "2022-03-28T00:00:00",
          "2022-03-29T00:00:00"
         ]
        }
       ],
       "layout": {
        "autosize": false,
        "height": 500,
        "plot_bgcolor": "white",
        "template": {
         "data": {
          "bar": [
           {
            "error_x": {
             "color": "#2a3f5f"
            },
            "error_y": {
             "color": "#2a3f5f"
            },
            "marker": {
             "line": {
              "color": "#E5ECF6",
              "width": 0.5
             },
             "pattern": {
              "fillmode": "overlay",
              "size": 10,
              "solidity": 0.2
             }
            },
            "type": "bar"
           }
          ],
          "barpolar": [
           {
            "marker": {
             "line": {
              "color": "#E5ECF6",
              "width": 0.5
             },
             "pattern": {
              "fillmode": "overlay",
              "size": 10,
              "solidity": 0.2
             }
            },
            "type": "barpolar"
           }
          ],
          "carpet": [
           {
            "aaxis": {
             "endlinecolor": "#2a3f5f",
             "gridcolor": "white",
             "linecolor": "white",
             "minorgridcolor": "white",
             "startlinecolor": "#2a3f5f"
            },
            "baxis": {
             "endlinecolor": "#2a3f5f",
             "gridcolor": "white",
             "linecolor": "white",
             "minorgridcolor": "white",
             "startlinecolor": "#2a3f5f"
            },
            "type": "carpet"
           }
          ],
          "choropleth": [
           {
            "colorbar": {
             "outlinewidth": 0,
             "ticks": ""
            },
            "type": "choropleth"
           }
          ],
          "contour": [
           {
            "colorbar": {
             "outlinewidth": 0,
             "ticks": ""
            },
            "colorscale": [
             [
              0,
              "#0d0887"
             ],
             [
              0.1111111111111111,
              "#46039f"
             ],
             [
              0.2222222222222222,
              "#7201a8"
             ],
             [
              0.3333333333333333,
              "#9c179e"
             ],
             [
              0.4444444444444444,
              "#bd3786"
             ],
             [
              0.5555555555555556,
              "#d8576b"
             ],
             [
              0.6666666666666666,
              "#ed7953"
             ],
             [
              0.7777777777777778,
              "#fb9f3a"
             ],
             [
              0.8888888888888888,
              "#fdca26"
             ],
             [
              1,
              "#f0f921"
             ]
            ],
            "type": "contour"
           }
          ],
          "contourcarpet": [
           {
            "colorbar": {
             "outlinewidth": 0,
             "ticks": ""
            },
            "type": "contourcarpet"
           }
          ],
          "heatmap": [
           {
            "colorbar": {
             "outlinewidth": 0,
             "ticks": ""
            },
            "colorscale": [
             [
              0,
              "#0d0887"
             ],
             [
              0.1111111111111111,
              "#46039f"
             ],
             [
              0.2222222222222222,
              "#7201a8"
             ],
             [
              0.3333333333333333,
              "#9c179e"
             ],
             [
              0.4444444444444444,
              "#bd3786"
             ],
             [
              0.5555555555555556,
              "#d8576b"
             ],
             [
              0.6666666666666666,
              "#ed7953"
             ],
             [
              0.7777777777777778,
              "#fb9f3a"
             ],
             [
              0.8888888888888888,
              "#fdca26"
             ],
             [
              1,
              "#f0f921"
             ]
            ],
            "type": "heatmap"
           }
          ],
          "heatmapgl": [
           {
            "colorbar": {
             "outlinewidth": 0,
             "ticks": ""
            },
            "colorscale": [
             [
              0,
              "#0d0887"
             ],
             [
              0.1111111111111111,
              "#46039f"
             ],
             [
              0.2222222222222222,
              "#7201a8"
             ],
             [
              0.3333333333333333,
              "#9c179e"
             ],
             [
              0.4444444444444444,
              "#bd3786"
             ],
             [
              0.5555555555555556,
              "#d8576b"
             ],
             [
              0.6666666666666666,
              "#ed7953"
             ],
             [
              0.7777777777777778,
              "#fb9f3a"
             ],
             [
              0.8888888888888888,
              "#fdca26"
             ],
             [
              1,
              "#f0f921"
             ]
            ],
            "type": "heatmapgl"
           }
          ],
          "histogram": [
           {
            "marker": {
             "pattern": {
              "fillmode": "overlay",
              "size": 10,
              "solidity": 0.2
             }
            },
            "type": "histogram"
           }
          ],
          "histogram2d": [
           {
            "colorbar": {
             "outlinewidth": 0,
             "ticks": ""
            },
            "colorscale": [
             [
              0,
              "#0d0887"
             ],
             [
              0.1111111111111111,
              "#46039f"
             ],
             [
              0.2222222222222222,
              "#7201a8"
             ],
             [
              0.3333333333333333,
              "#9c179e"
             ],
             [
              0.4444444444444444,
              "#bd3786"
             ],
             [
              0.5555555555555556,
              "#d8576b"
             ],
             [
              0.6666666666666666,
              "#ed7953"
             ],
             [
              0.7777777777777778,
              "#fb9f3a"
             ],
             [
              0.8888888888888888,
              "#fdca26"
             ],
             [
              1,
              "#f0f921"
             ]
            ],
            "type": "histogram2d"
           }
          ],
          "histogram2dcontour": [
           {
            "colorbar": {
             "outlinewidth": 0,
             "ticks": ""
            },
            "colorscale": [
             [
              0,
              "#0d0887"
             ],
             [
              0.1111111111111111,
              "#46039f"
             ],
             [
              0.2222222222222222,
              "#7201a8"
             ],
             [
              0.3333333333333333,
              "#9c179e"
             ],
             [
              0.4444444444444444,
              "#bd3786"
             ],
             [
              0.5555555555555556,
              "#d8576b"
             ],
             [
              0.6666666666666666,
              "#ed7953"
             ],
             [
              0.7777777777777778,
              "#fb9f3a"
             ],
             [
              0.8888888888888888,
              "#fdca26"
             ],
             [
              1,
              "#f0f921"
             ]
            ],
            "type": "histogram2dcontour"
           }
          ],
          "mesh3d": [
           {
            "colorbar": {
             "outlinewidth": 0,
             "ticks": ""
            },
            "type": "mesh3d"
           }
          ],
          "parcoords": [
           {
            "line": {
             "colorbar": {
              "outlinewidth": 0,
              "ticks": ""
             }
            },
            "type": "parcoords"
           }
          ],
          "pie": [
           {
            "automargin": true,
            "type": "pie"
           }
          ],
          "scatter": [
           {
            "fillpattern": {
             "fillmode": "overlay",
             "size": 10,
             "solidity": 0.2
            },
            "type": "scatter"
           }
          ],
          "scatter3d": [
           {
            "line": {
             "colorbar": {
              "outlinewidth": 0,
              "ticks": ""
             }
            },
            "marker": {
             "colorbar": {
              "outlinewidth": 0,
              "ticks": ""
             }
            },
            "type": "scatter3d"
           }
          ],
          "scattercarpet": [
           {
            "marker": {
             "colorbar": {
              "outlinewidth": 0,
              "ticks": ""
             }
            },
            "type": "scattercarpet"
           }
          ],
          "scattergeo": [
           {
            "marker": {
             "colorbar": {
              "outlinewidth": 0,
              "ticks": ""
             }
            },
            "type": "scattergeo"
           }
          ],
          "scattergl": [
           {
            "marker": {
             "colorbar": {
              "outlinewidth": 0,
              "ticks": ""
             }
            },
            "type": "scattergl"
           }
          ],
          "scattermapbox": [
           {
            "marker": {
             "colorbar": {
              "outlinewidth": 0,
              "ticks": ""
             }
            },
            "type": "scattermapbox"
           }
          ],
          "scatterpolar": [
           {
            "marker": {
             "colorbar": {
              "outlinewidth": 0,
              "ticks": ""
             }
            },
            "type": "scatterpolar"
           }
          ],
          "scatterpolargl": [
           {
            "marker": {
             "colorbar": {
              "outlinewidth": 0,
              "ticks": ""
             }
            },
            "type": "scatterpolargl"
           }
          ],
          "scatterternary": [
           {
            "marker": {
             "colorbar": {
              "outlinewidth": 0,
              "ticks": ""
             }
            },
            "type": "scatterternary"
           }
          ],
          "surface": [
           {
            "colorbar": {
             "outlinewidth": 0,
             "ticks": ""
            },
            "colorscale": [
             [
              0,
              "#0d0887"
             ],
             [
              0.1111111111111111,
              "#46039f"
             ],
             [
              0.2222222222222222,
              "#7201a8"
             ],
             [
              0.3333333333333333,
              "#9c179e"
             ],
             [
              0.4444444444444444,
              "#bd3786"
             ],
             [
              0.5555555555555556,
              "#d8576b"
             ],
             [
              0.6666666666666666,
              "#ed7953"
             ],
             [
              0.7777777777777778,
              "#fb9f3a"
             ],
             [
              0.8888888888888888,
              "#fdca26"
             ],
             [
              1,
              "#f0f921"
             ]
            ],
            "type": "surface"
           }
          ],
          "table": [
           {
            "cells": {
             "fill": {
              "color": "#EBF0F8"
             },
             "line": {
              "color": "white"
             }
            },
            "header": {
             "fill": {
              "color": "#C8D4E3"
             },
             "line": {
              "color": "white"
             }
            },
            "type": "table"
           }
          ]
         },
         "layout": {
          "annotationdefaults": {
           "arrowcolor": "#2a3f5f",
           "arrowhead": 0,
           "arrowwidth": 1
          },
          "autotypenumbers": "strict",
          "coloraxis": {
           "colorbar": {
            "outlinewidth": 0,
            "ticks": ""
           }
          },
          "colorscale": {
           "diverging": [
            [
             0,
             "#8e0152"
            ],
            [
             0.1,
             "#c51b7d"
            ],
            [
             0.2,
             "#de77ae"
            ],
            [
             0.3,
             "#f1b6da"
            ],
            [
             0.4,
             "#fde0ef"
            ],
            [
             0.5,
             "#f7f7f7"
            ],
            [
             0.6,
             "#e6f5d0"
            ],
            [
             0.7,
             "#b8e186"
            ],
            [
             0.8,
             "#7fbc41"
            ],
            [
             0.9,
             "#4d9221"
            ],
            [
             1,
             "#276419"
            ]
           ],
           "sequential": [
            [
             0,
             "#0d0887"
            ],
            [
             0.1111111111111111,
             "#46039f"
            ],
            [
             0.2222222222222222,
             "#7201a8"
            ],
            [
             0.3333333333333333,
             "#9c179e"
            ],
            [
             0.4444444444444444,
             "#bd3786"
            ],
            [
             0.5555555555555556,
             "#d8576b"
            ],
            [
             0.6666666666666666,
             "#ed7953"
            ],
            [
             0.7777777777777778,
             "#fb9f3a"
            ],
            [
             0.8888888888888888,
             "#fdca26"
            ],
            [
             1,
             "#f0f921"
            ]
           ],
           "sequentialminus": [
            [
             0,
             "#0d0887"
            ],
            [
             0.1111111111111111,
             "#46039f"
            ],
            [
             0.2222222222222222,
             "#7201a8"
            ],
            [
             0.3333333333333333,
             "#9c179e"
            ],
            [
             0.4444444444444444,
             "#bd3786"
            ],
            [
             0.5555555555555556,
             "#d8576b"
            ],
            [
             0.6666666666666666,
             "#ed7953"
            ],
            [
             0.7777777777777778,
             "#fb9f3a"
            ],
            [
             0.8888888888888888,
             "#fdca26"
            ],
            [
             1,
             "#f0f921"
            ]
           ]
          },
          "colorway": [
           "#636efa",
           "#EF553B",
           "#00cc96",
           "#ab63fa",
           "#FFA15A",
           "#19d3f3",
           "#FF6692",
           "#B6E880",
           "#FF97FF",
           "#FECB52"
          ],
          "font": {
           "color": "#2a3f5f"
          },
          "geo": {
           "bgcolor": "white",
           "lakecolor": "white",
           "landcolor": "#E5ECF6",
           "showlakes": true,
           "showland": true,
           "subunitcolor": "white"
          },
          "hoverlabel": {
           "align": "left"
          },
          "hovermode": "closest",
          "mapbox": {
           "style": "light"
          },
          "paper_bgcolor": "white",
          "plot_bgcolor": "#E5ECF6",
          "polar": {
           "angularaxis": {
            "gridcolor": "white",
            "linecolor": "white",
            "ticks": ""
           },
           "bgcolor": "#E5ECF6",
           "radialaxis": {
            "gridcolor": "white",
            "linecolor": "white",
            "ticks": ""
           }
          },
          "scene": {
           "xaxis": {
            "backgroundcolor": "#E5ECF6",
            "gridcolor": "white",
            "gridwidth": 2,
            "linecolor": "white",
            "showbackground": true,
            "ticks": "",
            "zerolinecolor": "white"
           },
           "yaxis": {
            "backgroundcolor": "#E5ECF6",
            "gridcolor": "white",
            "gridwidth": 2,
            "linecolor": "white",
            "showbackground": true,
            "ticks": "",
            "zerolinecolor": "white"
           },
           "zaxis": {
            "backgroundcolor": "#E5ECF6",
            "gridcolor": "white",
            "gridwidth": 2,
            "linecolor": "white",
            "showbackground": true,
            "ticks": "",
            "zerolinecolor": "white"
           }
          },
          "shapedefaults": {
           "line": {
            "color": "#2a3f5f"
           }
          },
          "ternary": {
           "aaxis": {
            "gridcolor": "white",
            "linecolor": "white",
            "ticks": ""
           },
           "baxis": {
            "gridcolor": "white",
            "linecolor": "white",
            "ticks": ""
           },
           "bgcolor": "#E5ECF6",
           "caxis": {
            "gridcolor": "white",
            "linecolor": "white",
            "ticks": ""
           }
          },
          "title": {
           "x": 0.05
          },
          "xaxis": {
           "automargin": true,
           "gridcolor": "white",
           "linecolor": "white",
           "ticks": "",
           "title": {
            "standoff": 15
           },
           "zerolinecolor": "white",
           "zerolinewidth": 2
          },
          "yaxis": {
           "automargin": true,
           "gridcolor": "white",
           "linecolor": "white",
           "ticks": "",
           "title": {
            "standoff": 15
           },
           "zerolinecolor": "white",
           "zerolinewidth": 2
          }
         }
        },
        "title": {
         "font": {
          "family": "Arial",
          "size": 24
         },
         "text": "Stock Price Candlestick Chart",
         "x": 0.5
        },
        "width": 700,
        "xaxis": {
         "gridcolor": "lightgray",
         "gridwidth": 1,
         "rangeslider": {
          "bordercolor": "black",
          "borderwidth": 1,
          "thickness": 0.05,
          "visible": true
         },
         "showgrid": true
        },
        "yaxis": {
         "gridcolor": "lightgray",
         "gridwidth": 1,
         "showgrid": true
        }
       }
      }
     },
     "metadata": {},
     "output_type": "display_data"
    }
   ],
   "source": [
    "fig = go.Figure(data=[go.Candlestick(\n",
    "                x = stock_data.index, # date values\n",
    "                open = stock_data['Open'],\n",
    "                high = stock_data['High'],\n",
    "                low = stock_data['Low'],\n",
    "                close = stock_data['Close'],\n",
    "                increasing_line_color = 'purple',\n",
    "                decreasing_line_color = 'orange',\n",
    "                name='Candlesticks')])\n",
    "\n",
    "# Add a title\n",
    "fig.update_layout(\n",
    "    title=\"Stock Price Candlestick Chart\",\n",
    "    title_x=0.5,  # Center the title\n",
    "\n",
    "    # Customize the font and size of the title\n",
    "    title_font=dict(size=24, family=\"Arial\"),\n",
    "\n",
    "    # Set the background color of the plot\n",
    "    plot_bgcolor='white',\n",
    "\n",
    "    # Customize the grid lines\n",
    "    xaxis=dict(showgrid=True, gridwidth=1, gridcolor='lightgray'),\n",
    "    yaxis=dict(showgrid=True, gridwidth=1, gridcolor='lightgray'),\n",
    ")\n",
    "\n",
    "# Add a range slider and customize it\n",
    "fig.update_layout(\n",
    "    xaxis_rangeslider_visible=True,  # Show the range slider\n",
    "\n",
    "    # Customize the range slider's appearance\n",
    "    xaxis_rangeslider=dict(\n",
    "        thickness=0.05,  # Set the thickness of the slider\n",
    "        bordercolor='black',  # Set the border color\n",
    "        borderwidth=1,  # Set the border width\n",
    "    )\n",
    ")\n",
    "\n",
    "# Set layout size\n",
    "fig.update_layout(\n",
    "    autosize=False,\n",
    "    width=700,  \n",
    "    height=500)"
   ]
  },
  {
   "cell_type": "markdown",
   "metadata": {},
   "source": [
    "Now, let's save the graph in a HTML file and display it in this website using an `iframe`"
   ]
  },
  {
   "cell_type": "code",
   "execution_count": 7,
   "metadata": {},
   "outputs": [],
   "source": [
    "# save this file as a standalong html file:\n",
    "fig.write_html(\"../../static/interactiveCharts/candlestick-plotly-custom-2.html\")"
   ]
  },
  {
   "cell_type": "code",
   "execution_count": 8,
   "metadata": {},
   "outputs": [
    {
     "data": {
      "text/html": [
       "<iframe \n",
       "    src=\"../../interactiveCharts/candlestick-plotly-custom-2.html\" \n",
       "    width=\"800\" \n",
       "    height=\"600\" \n",
       "    title=\"custom candlestick with plotly 2\" \n",
       "    style=\"border:none\">\n",
       "</iframe>\n"
      ],
      "text/plain": [
       "<IPython.core.display.HTML object>"
      ]
     },
     "metadata": {},
     "output_type": "display_data"
    }
   ],
   "source": [
    "%%html\n",
    "<iframe \n",
    "    src=\"../../interactiveCharts/candlestick-plotly-custom-2.html\" \n",
    "    width=\"800\" \n",
    "    height=\"600\" \n",
    "    title=\"custom candlestick with plotly 2\" \n",
    "    style=\"border:none\">\n",
    "</iframe>"
   ]
  },
  {
   "cell_type": "markdown",
   "metadata": {},
   "source": [
    "## Going further\n",
    "\n",
    "This post explains how to create a candlestick chart with [plotly](https://python-graph-gallery.com/plotly/).\n",
    "\n",
    "For more examples of **how to create or customize** your candlesticks plots, see the [candlestick section](https://python-graph-gallery.com/candlestick/). You may also be interested in how to [add moving averages to a plotly candlestick chart](https://python-graph-gallery.com/555-candle-stick-with-moving-average-plotly/)."
   ]
  }
 ],
 "metadata": {
  "chartType": "candlestick",
  "description": "<a href='https://python-graph-gallery.com/candlestick/'>A candlestick chart</a>, created using the <a href='https://python-graph-gallery.com/plotly/'>Plotly</a> library in Python, is a graphical representation of <b>financial data</b>. It displays price movements over a specific time period, typically used in stock market analysis. Candlestick charts are composed of individual <i>'candlesticks'</i>, each representing the <b>opening, closing, high, and low</b> prices for a given time interval. These candlesticks are displayed on a two-dimensional coordinate system, with one axis representing time and the other axis representing price. <br><br>  <code>Plotly</code> has a <code>Candlestick()</code> function that provides the capability to create candlestick charts easily. In this post, we'll see how to customize <a href='https://python-graph-gallery.com/candlestick/'> candlestick charts</a> with this library. You might first want to take a look at this <a href='https://python-graph-gallery.com/553-intro-candle-stick-plotly/'>intro to candlestick</a> with plotly",
  "family": "evolution",
  "kernelspec": {
   "display_name": "Python 3 (ipykernel)",
   "language": "python",
   "name": "python3"
  },
  "keywords": "candlestick, plotly, finance, plot, chart, customize",
  "language_info": {
   "codemirror_mode": {
    "name": "ipython",
    "version": 3
   },
   "file_extension": ".py",
   "mimetype": "text/x-python",
   "name": "python",
   "nbconvert_exporter": "python",
   "pygments_lexer": "ipython3",
   "version": "3.9.13"
  },
  "seoDescription": "How to customize a candlestick chart with plotly",
  "slug": "554-custom-candle-stick-plotly",
  "title": "Customize candlestick chart with plotly"
 },
 "nbformat": 4,
 "nbformat_minor": 4
}
