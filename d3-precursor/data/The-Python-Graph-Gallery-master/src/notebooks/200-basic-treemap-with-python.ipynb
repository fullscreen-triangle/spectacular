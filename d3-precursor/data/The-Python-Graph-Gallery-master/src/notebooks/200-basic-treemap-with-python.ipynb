{
 "cells": [
  {
   "cell_type": "markdown",
   "metadata": {},
   "source": [
    "You can generate a **basic treemap** using the `plot()` function of **squarify** library in python. The function requires the following parameters:\n",
    "* `sizes` : a list (or a column of data frame) of values\n",
    "* `label` : a list (or a column of data frame) of label text\n",
    "\n",
    "In a treemap, each square will be as big as its value."
   ]
  },
  {
   "cell_type": "code",
   "execution_count": 14,
   "metadata": {},
   "outputs": [
    {
     "data": {
      "image/png": "[encoded data removed]",
      "text/plain": [
       "<Figure size 432x288 with 1 Axes>"
      ]
     },
     "metadata": {
      "needs_background": "light"
     },
     "output_type": "display_data"
    },
    {
     "data": {
      "image/png": "[encoded data removed]",
      "text/plain": [
       "<Figure size 432x288 with 1 Axes>"
      ]
     },
     "metadata": {
      "needs_background": "light"
     },
     "output_type": "display_data"
    }
   ],
   "source": [
    "# libraries\n",
    "import pandas as pd\n",
    "import matplotlib.pyplot as plt\n",
    "import squarify    # pip install squarify (algorithm for treemap)\n",
    " \n",
    "# If you have 2 lists\n",
    "squarify.plot(sizes=[13,22,35,5], label=[\"group A\", \"group B\", \"group C\", \"group D\"], alpha=.7 )\n",
    "plt.axis('off')\n",
    "plt.show()\n",
    " \n",
    "# If you have a data frame\n",
    "df = pd.DataFrame({'nb_people':[8,3,4,2], 'group':[\"group A\", \"group B\", \"group C\", \"group D\"] })\n",
    "squarify.plot(sizes=df['nb_people'], label=df['group'], alpha=.8 )\n",
    "plt.axis('off')\n",
    "plt.show() "
   ]
  }
 ],
 "metadata": {
  "chartType": "treemap",
  "description": "This post shows how to plot a <b>basic treemap</b> using the <a href='https://github.com/laserson/squarify'>squarify library</a> of python.",
  "family": "partOfAWhole",
  "kernelspec": {
   "display_name": "Python 3",
   "language": "python",
   "name": "python3"
  },
  "keywords": "python, chart, plot, treemap, squarify",
  "language_info": {
   "codemirror_mode": {
    "name": "ipython",
    "version": 3
   },
   "file_extension": ".py",
   "mimetype": "text/x-python",
   "name": "python",
   "nbconvert_exporter": "python",
   "pygments_lexer": "ipython3",
   "version": "3.7.3"
  },
  "seoDescription": "How to plot a basic treemap in python",
  "slug": "200-basic-treemap-with-python",
  "title": "Basic Treemap with python"
 },
 "nbformat": 4,
 "nbformat_minor": 4
}
